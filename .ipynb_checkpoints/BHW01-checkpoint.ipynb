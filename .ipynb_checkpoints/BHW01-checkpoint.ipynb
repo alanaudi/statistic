{
 "cells": [
  {
   "cell_type": "markdown",
   "metadata": {
    "collapsed": false
   },
   "source": [
    "# 第一次大作業\n",
    "\n",
    "根據finance.yahoo.com網站資料，我們考慮樣本期間(2019-01-01)到(2020-11-30)，討論COVID-19期間。根據HW8的結果，我們得到美國與台灣股市報酬率與其匯率報酬率之間的關係，現在我們單純考慮股票市場，題目如下：\n",
    "\n",
    "1. 請試著對VIX變化量與S&P500指數日報酬率做出敘述統計。\n",
    "    - 平均數、標準差、偏態、峰態\n",
    "    - 根據上述結果，討論此兩變數是否符合常態分佈\n",
    "    - 相關係數，一階自相關係數\n",
    "    - 根據上述結果，討論此兩變數的資料結構\n",
    "\n",
    "2. 請試著做出以下分析得到VIX變化量與S&P500指數報酬率的關係為正相關、負相關、無相關。\n",
    "    - 相關係數\n",
    "    - 散布圖\n",
    "    - 迴歸分析\n",
    "\n",
    "3. 請試著做出以下分析得到S&P500指數股價報酬與移動平均(`MA5`與`MA20`)的關係為正相關、負相關、無相關。\n",
    "    - 相關係數\n",
    "    - 散布圖\n",
    "    - 回歸分析\n",
    "\n",
    "4. 請利用迴歸分析結果，討論移動平均和VIX報酬率對於S&P500報酬的預測能力。\n"
   ]
  },
  {
   "cell_type": "code",
   "execution_count": 1,
   "metadata": {
    "collapsed": false
   },
   "outputs": [
    {
     "ename": "NameError",
     "evalue": "name 'data' is not defined",
     "output_type": "error",
     "traceback": [
      "\u001b[0;31m\u001b[0m",
      "\u001b[0;31mNameError\u001b[0mTraceback (most recent call last)",
      "\u001b[0;32m<ipython-input-1-aaf9a96d8689>\u001b[0m in \u001b[0;36m<module>\u001b[0;34m\u001b[0m\n\u001b[1;32m      1\u001b[0m \u001b[0;31m# 移動平均線: ma5,ma20\u001b[0m\u001b[0;34m\u001b[0m\u001b[0;34m\u001b[0m\u001b[0;34m\u001b[0m\u001b[0m\n\u001b[0;32m----> 2\u001b[0;31m \u001b[0mprice\u001b[0m \u001b[0;34m=\u001b[0m \u001b[0mdata\u001b[0m\u001b[0;34m.\u001b[0m\u001b[0mgspc\u001b[0m\u001b[0;34m\u001b[0m\u001b[0;34m\u001b[0m\u001b[0m\n\u001b[0m\u001b[1;32m      3\u001b[0m \u001b[0mma5\u001b[0m \u001b[0;34m=\u001b[0m \u001b[0mprice\u001b[0m\u001b[0;34m.\u001b[0m\u001b[0mrolling\u001b[0m\u001b[0;34m(\u001b[0m\u001b[0;36m5\u001b[0m\u001b[0;34m)\u001b[0m\u001b[0;34m.\u001b[0m\u001b[0mmean\u001b[0m\u001b[0;34m(\u001b[0m\u001b[0;34m)\u001b[0m\u001b[0;34m\u001b[0m\u001b[0;34m\u001b[0m\u001b[0m\n\u001b[1;32m      4\u001b[0m \u001b[0mma20\u001b[0m \u001b[0;34m=\u001b[0m \u001b[0mprice\u001b[0m\u001b[0;34m.\u001b[0m\u001b[0mrolling\u001b[0m\u001b[0;34m(\u001b[0m\u001b[0;36m20\u001b[0m\u001b[0;34m)\u001b[0m\u001b[0;34m.\u001b[0m\u001b[0mmean\u001b[0m\u001b[0;34m(\u001b[0m\u001b[0;34m)\u001b[0m\u001b[0;34m\u001b[0m\u001b[0;34m\u001b[0m\u001b[0m\n",
      "\u001b[0;31mNameError\u001b[0m: name 'data' is not defined"
     ]
    }
   ],
   "source": [
    "# 移動平均線: ma5,ma20\n",
    "price = data.gspc\n",
    "ma5 = price.rolling(5).mean()\n",
    "ma20 = price.rolling(20).mean()"
   ]
  },
  {
   "cell_type": "markdown",
   "metadata": {
    "collapsed": false
   },
   "source": [
    "### 繳交作業注意事項\n",
    "1. 檔名統一為 \"BHW1_學號_班別_姓名\"。例如: `BHW1_08151320_經1C_王大明` (扣2分) \n",
    "2. 繳交時間為12/30中午12點前 (扣4分)\n",
    "3. 繳交方式：Moodle的作業區繳交 (扣2分)\n",
    "4. 若未依規定繳交，成績折扣如上所示。"
   ]
  },
  {
   "cell_type": "code",
   "execution_count": 7,
   "metadata": {
    "collapsed": false
   },
   "outputs": [],
   "source": [
    "import matplotlib.pyplot as plt\n",
    "import pandas as pd\n",
    "import numpy as np\n",
    "import seaborn as sns\n",
    "import statsmodels.api as sm\n",
    "from statsmodels.iolib.summary2 import summary_col"
   ]
  },
  {
   "cell_type": "code",
   "execution_count": 14,
   "metadata": {
    "collapsed": false
   },
   "outputs": [
    {
     "data": {
      "text/html": [
       "<div>\n",
       "<style scoped>\n",
       "    .dataframe tbody tr th:only-of-type {\n",
       "        vertical-align: middle;\n",
       "    }\n",
       "\n",
       "    .dataframe tbody tr th {\n",
       "        vertical-align: top;\n",
       "    }\n",
       "\n",
       "    .dataframe thead th {\n",
       "        text-align: right;\n",
       "    }\n",
       "</style>\n",
       "<table border=\"1\" class=\"dataframe\">\n",
       "  <thead>\n",
       "    <tr style=\"text-align: right;\">\n",
       "      <th></th>\n",
       "      <th>date</th>\n",
       "      <th>open</th>\n",
       "      <th>high</th>\n",
       "      <th>low</th>\n",
       "      <th>close</th>\n",
       "      <th>adjclose</th>\n",
       "      <th>volume</th>\n",
       "    </tr>\n",
       "  </thead>\n",
       "  <tbody>\n",
       "    <tr>\n",
       "      <th>0</th>\n",
       "      <td>2019-01-02</td>\n",
       "      <td>27.540001</td>\n",
       "      <td>28.530001</td>\n",
       "      <td>23.049999</td>\n",
       "      <td>23.219999</td>\n",
       "      <td>23.219999</td>\n",
       "      <td>0</td>\n",
       "    </tr>\n",
       "    <tr>\n",
       "      <th>1</th>\n",
       "      <td>2019-01-03</td>\n",
       "      <td>25.680000</td>\n",
       "      <td>26.600000</td>\n",
       "      <td>24.049999</td>\n",
       "      <td>25.450001</td>\n",
       "      <td>25.450001</td>\n",
       "      <td>0</td>\n",
       "    </tr>\n",
       "    <tr>\n",
       "      <th>2</th>\n",
       "      <td>2019-01-04</td>\n",
       "      <td>24.360001</td>\n",
       "      <td>24.480000</td>\n",
       "      <td>21.190001</td>\n",
       "      <td>21.379999</td>\n",
       "      <td>21.379999</td>\n",
       "      <td>0</td>\n",
       "    </tr>\n",
       "    <tr>\n",
       "      <th>3</th>\n",
       "      <td>2019-01-07</td>\n",
       "      <td>22.059999</td>\n",
       "      <td>22.709999</td>\n",
       "      <td>20.910000</td>\n",
       "      <td>21.400000</td>\n",
       "      <td>21.400000</td>\n",
       "      <td>0</td>\n",
       "    </tr>\n",
       "    <tr>\n",
       "      <th>4</th>\n",
       "      <td>2019-01-08</td>\n",
       "      <td>20.959999</td>\n",
       "      <td>22.030001</td>\n",
       "      <td>20.090000</td>\n",
       "      <td>20.469999</td>\n",
       "      <td>20.469999</td>\n",
       "      <td>0</td>\n",
       "    </tr>\n",
       "  </tbody>\n",
       "</table>\n",
       "</div>"
      ],
      "text/plain": [
       "         date       open       high        low      close   adjclose  volume\n",
       "0  2019-01-02  27.540001  28.530001  23.049999  23.219999  23.219999       0\n",
       "1  2019-01-03  25.680000  26.600000  24.049999  25.450001  25.450001       0\n",
       "2  2019-01-04  24.360001  24.480000  21.190001  21.379999  21.379999       0\n",
       "3  2019-01-07  22.059999  22.709999  20.910000  21.400000  21.400000       0\n",
       "4  2019-01-08  20.959999  22.030001  20.090000  20.469999  20.469999       0"
      ]
     },
     "execution_count": 14,
     "metadata": {},
     "output_type": "execute_result"
    }
   ],
   "source": [
    "cols = ['date', 'open', 'high', 'low', 'close', 'adjclose', 'volume']\n",
    "\n",
    "gspc = pd.read_csv(\"GSPC.csv\")\n",
    "vix = pd.read_csv(\"VIX.csv\")\n",
    "gspc.columns, vix.columns = cols, cols\n",
    "\n",
    "vix.head()"
   ]
  },
  {
   "cell_type": "code",
   "execution_count": null,
   "metadata": {
    "collapsed": false
   },
   "outputs": [],
   "source": []
  },
  {
   "cell_type": "code",
   "execution_count": 15,
   "metadata": {
    "collapsed": false
   },
   "outputs": [
    {
     "data": {
      "text/html": [
       "<div>\n",
       "<style scoped>\n",
       "    .dataframe tbody tr th:only-of-type {\n",
       "        vertical-align: middle;\n",
       "    }\n",
       "\n",
       "    .dataframe tbody tr th {\n",
       "        vertical-align: top;\n",
       "    }\n",
       "\n",
       "    .dataframe thead th {\n",
       "        text-align: right;\n",
       "    }\n",
       "</style>\n",
       "<table border=\"1\" class=\"dataframe\">\n",
       "  <thead>\n",
       "    <tr style=\"text-align: right;\">\n",
       "      <th></th>\n",
       "      <th>date</th>\n",
       "      <th>open</th>\n",
       "      <th>high</th>\n",
       "      <th>low</th>\n",
       "      <th>close</th>\n",
       "      <th>adjclose</th>\n",
       "      <th>volume</th>\n",
       "      <th>vix_close</th>\n",
       "    </tr>\n",
       "  </thead>\n",
       "  <tbody>\n",
       "    <tr>\n",
       "      <th>0</th>\n",
       "      <td>2019-01-02</td>\n",
       "      <td>2476.959961</td>\n",
       "      <td>2519.489990</td>\n",
       "      <td>2467.469971</td>\n",
       "      <td>2510.030029</td>\n",
       "      <td>2510.030029</td>\n",
       "      <td>3733160000</td>\n",
       "      <td>23.219999</td>\n",
       "    </tr>\n",
       "    <tr>\n",
       "      <th>1</th>\n",
       "      <td>2019-01-03</td>\n",
       "      <td>2491.919922</td>\n",
       "      <td>2493.139893</td>\n",
       "      <td>2443.959961</td>\n",
       "      <td>2447.889893</td>\n",
       "      <td>2447.889893</td>\n",
       "      <td>3822860000</td>\n",
       "      <td>25.450001</td>\n",
       "    </tr>\n",
       "    <tr>\n",
       "      <th>2</th>\n",
       "      <td>2019-01-04</td>\n",
       "      <td>2474.330078</td>\n",
       "      <td>2538.070068</td>\n",
       "      <td>2474.330078</td>\n",
       "      <td>2531.939941</td>\n",
       "      <td>2531.939941</td>\n",
       "      <td>4213410000</td>\n",
       "      <td>21.379999</td>\n",
       "    </tr>\n",
       "    <tr>\n",
       "      <th>3</th>\n",
       "      <td>2019-01-07</td>\n",
       "      <td>2535.610107</td>\n",
       "      <td>2566.159912</td>\n",
       "      <td>2524.560059</td>\n",
       "      <td>2549.689941</td>\n",
       "      <td>2549.689941</td>\n",
       "      <td>4104710000</td>\n",
       "      <td>21.400000</td>\n",
       "    </tr>\n",
       "    <tr>\n",
       "      <th>4</th>\n",
       "      <td>2019-01-08</td>\n",
       "      <td>2568.110107</td>\n",
       "      <td>2579.820068</td>\n",
       "      <td>2547.560059</td>\n",
       "      <td>2574.409912</td>\n",
       "      <td>2574.409912</td>\n",
       "      <td>4083030000</td>\n",
       "      <td>20.469999</td>\n",
       "    </tr>\n",
       "  </tbody>\n",
       "</table>\n",
       "</div>"
      ],
      "text/plain": [
       "         date         open         high          low        close  \\\n",
       "0  2019-01-02  2476.959961  2519.489990  2467.469971  2510.030029   \n",
       "1  2019-01-03  2491.919922  2493.139893  2443.959961  2447.889893   \n",
       "2  2019-01-04  2474.330078  2538.070068  2474.330078  2531.939941   \n",
       "3  2019-01-07  2535.610107  2566.159912  2524.560059  2549.689941   \n",
       "4  2019-01-08  2568.110107  2579.820068  2547.560059  2574.409912   \n",
       "\n",
       "      adjclose      volume  vix_close  \n",
       "0  2510.030029  3733160000  23.219999  \n",
       "1  2447.889893  3822860000  25.450001  \n",
       "2  2531.939941  4213410000  21.379999  \n",
       "3  2549.689941  4104710000  21.400000  \n",
       "4  2574.409912  4083030000  20.469999  "
      ]
     },
     "execution_count": 15,
     "metadata": {},
     "output_type": "execute_result"
    }
   ],
   "source": [
    "gspc['vix_close'] = vix.close\n",
    "gspc.head()"
   ]
  }
 ],
 "metadata": {
  "kernelspec": {
   "argv": [
    "python",
    "-m",
    "ipykernel_launcher",
    "-f",
    "{connection_file}"
   ],
   "display_name": "Python 3",
   "env": null,
   "interrupt_mode": "signal",
   "language": "python",
   "metadata": null,
   "name": "python3"
  },
  "language_info": {
   "codemirror_mode": {
    "name": "ipython",
    "version": 3
   },
   "file_extension": ".py",
   "mimetype": "text/x-python",
   "name": "python",
   "nbconvert_exporter": "python",
   "pygments_lexer": "ipython3",
   "version": "3.8.3"
  },
  "name": "BHW01.ipynb"
 },
 "nbformat": 4,
 "nbformat_minor": 4
}

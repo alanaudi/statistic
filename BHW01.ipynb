{
 "cells": [
  {
   "cell_type": "markdown",
   "metadata": {
    "collapsed": false
   },
   "source": [
    "# 第一次大作業\n",
    "\n",
    "根據finance.yahoo.com網站資料，我們考慮樣本期間(2019-01-01)到(2020-11-30)，討論COVID-19期間。根據HW8的結果，我們得到美國與台灣股市報酬率與其匯率報酬率之間的關係，現在我們單純考慮股票市場，題目如下：\n",
    "\n",
    "1. 請試著對VIX變化量與S&P500指數日報酬率做出敘述統計。\n",
    "    - 平均數、標準差、偏態、峰態\n",
    "    - 根據上述結果，討論此兩變數是否符合常態分佈\n",
    "    - 相關係數，一階自相關係數\n",
    "    - 根據上述結果，討論此兩變數的資料結構\n",
    "\n",
    "2. 請試著做出以下分析得到VIX變化量與S&P500指數報酬率的關係為正相關、負相關、無相關。\n",
    "    - 相關係數\n",
    "    - 散布圖\n",
    "    - 迴歸分析\n",
    "\n",
    "3. 請試著做出以下分析得到S&P500指數股價報酬與移動平均(`MA5`與`MA20`)的關係為正相關、負相關、無相關。\n",
    "    - 相關係數\n",
    "    - 散布圖\n",
    "    - 回歸分析\n",
    "\n",
    "4. 請利用迴歸分析結果，討論移動平均和VIX報酬率對於S&P500報酬的預測能力。"
   ]
  },
  {
   "cell_type": "markdown",
   "metadata": {
    "collapsed": false
   },
   "source": [
    "### 繳交作業注意事項\n",
    "1. 檔名統一為 \"BHW1_學號_班別_姓名\"。例如: `BHW1_08151320_經1C_王大明` (扣2分) \n",
    "2. 繳交時間為12/30中午12點前 (扣4分)\n",
    "3. 繳交方式：Moodle的作業區繳交 (扣2分)"
   ]
  },
  {
   "cell_type": "code",
   "execution_count": 17,
   "metadata": {
    "collapsed": false
   },
   "outputs": [],
   "source": [
    "# %matplotlib inline\n",
    "import warnings\n",
    "warnings.filterwarnings(\"ignore\")\n",
    "\n",
    "import matplotlib.pyplot as plt\n",
    "import pandas as pd\n",
    "import numpy as np\n",
    "import statsmodels.api as sm\n",
    "from statsmodels.iolib.summary2 import summary_col\n",
    "\n",
    "import seaborn as sns\n",
    "sns.set_style(\"darkgrid\")"
   ]
  },
  {
   "cell_type": "code",
   "execution_count": 18,
   "metadata": {
    "collapsed": false
   },
   "outputs": [],
   "source": [
    "cols = ['date', 'open', 'high', 'low', 'close', 'adjclose', 'volume']\n",
    "data = pd.read_csv(\"GSPC.csv\")\n",
    "vix = pd.read_csv(\"VIX.csv\")\n",
    "\n",
    "data.columns, vix.columns = cols, cols\n",
    "data['vix_close'] = vix.close\n",
    "\n",
    "# TODO diff gspc volume\n",
    "data['dvolume'] = data.volume.diff()\n",
    "# TODO diff vix cloas\n",
    "data['dvix'] = data.vix_close.diff()\n",
    "# TODO gspc return\n",
    "data['ret'] = data.adjclose.diff() / data.adjclose.shift()\n",
    "\n",
    "# moving average\n",
    "ma5 = data.adjclose.rolling(5).mean()\n",
    "ma20 = data.adjclose.rolling(20).mean()"
   ]
  },
  {
   "cell_type": "markdown",
   "metadata": {
    "collapsed": false
   },
   "source": [
    "# 1 請試著對VIX變化量與S&P500指數日報酬率做出敘述統計。"
   ]
  },
  {
   "cell_type": "markdown",
   "metadata": {
    "collapsed": false
   },
   "source": [
    "## VIX 變化量 "
   ]
  },
  {
   "cell_type": "code",
   "execution_count": 19,
   "metadata": {
    "collapsed": false
   },
   "outputs": [
    {
     "name": "stdout",
     "output_type": "stream",
     "text": [
      "VIX 變化量 平均值：-0.004948022869022868\n",
      "VIX 變化量 標準差：2.743231727349976\n",
      "VIX 變化量 偏態：2.6109727072318565\n",
      "VIX 變化量 峰態：27.303495064381252\n",
      "VIX 變化量 一階自相關係數：-0.32044356607721364\n"
     ]
    }
   ],
   "source": [
    "mean = data.dvix.mean()\n",
    "print(F\"VIX 變化量 平均值：{mean}\")\n",
    "std = data.dvix.std()\n",
    "print(F\"VIX 變化量 標準差：{std}\")\n",
    "skew = data.dvix.skew()\n",
    "print(F\"VIX 變化量 偏態：{skew}\")\n",
    "kurt = data.dvix.kurt()\n",
    "print(F\"VIX 變化量 峰態：{kurt}\")\n",
    "autocorr = data.dvix.autocorr(lag=1)\n",
    "print(F\"VIX 變化量 一階自相關係數：{autocorr}\")"
   ]
  },
  {
   "cell_type": "code",
   "execution_count": 20,
   "metadata": {
    "collapsed": false
   },
   "outputs": [
    {
     "data": {
      "text/plain": [
       "<AxesSubplot:ylabel='dvix'>"
      ]
     },
     "execution_count": 20,
     "metadata": {},
     "output_type": "execute_result"
    },
    {
     "data": {
      "image/png": "[encoded data removed]",
      "text/plain": [
       "<Figure size 432x288 with 1 Axes>"
      ]
     },
     "metadata": {},
     "output_type": "display_data"
    }
   ],
   "source": [
    "sns.lineplot(data=data.dvix)"
   ]
  },
  {
   "cell_type": "code",
   "execution_count": 21,
   "metadata": {
    "collapsed": false
   },
   "outputs": [
    {
     "data": {
      "text/plain": [
       "<seaborn.axisgrid.FacetGrid at 0x1222a1be0>"
      ]
     },
     "execution_count": 21,
     "metadata": {},
     "output_type": "execute_result"
    },
    {
     "data": {
      "image/png": "[encoded data removed]",
      "text/plain": [
       "<Figure size 360x360 with 1 Axes>"
      ]
     },
     "metadata": {},
     "output_type": "display_data"
    }
   ],
   "source": [
    "sns.displot(data=data.dvix)"
   ]
  },
  {
   "cell_type": "markdown",
   "metadata": {
    "collapsed": false
   },
   "source": [
    "1. 由於 VIX 變化量的偏態係數不等於零，因此不是呈現常態分佈。\n",
    "2. 由於 VIX 變化量的一階自相關係數絕對值小於 0.5，表示資料本身的自我相關是低度相關，適合與其他資料做迴歸分析。 \n",
    "3. 從 lineplot 來看，VIX 變化量本身沒有明顯的週期性變化，與一階自我相關係數吻合。\n",
    "4. 從 distribution plot 來看，雖然數據顯示資料偏向右邊，但整體的分佈相當接近常態分佈的鐘型曲線。\n",
    "5. 由於峰態相當的大，也可以從圖上看出在平均值的附近的波鋒相當的高聳。"
   ]
  },
  {
   "cell_type": "markdown",
   "metadata": {
    "collapsed": false
   },
   "source": [
    "## S&P500 報酬率"
   ]
  },
  {
   "cell_type": "code",
   "execution_count": 22,
   "metadata": {
    "collapsed": false
   },
   "outputs": [
    {
     "name": "stdout",
     "output_type": "stream",
     "text": [
      "S&P500 報酬率平均值：0.0009119886392381388\n",
      "S&P500 報酬率標準差：0.01667012263282266\n",
      "S&P500 報酬率偏態：-0.6808926560951445\n",
      "S&P500 報酬率峰態：13.616629424730824\n",
      "S&P500 報酬率一階自相關係數：-0.3240680912912369\n"
     ]
    }
   ],
   "source": [
    "mean = data.ret.mean()\n",
    "print(F\"S&P500 報酬率平均值：{mean}\")\n",
    "std = data.ret.std()\n",
    "print(F\"S&P500 報酬率標準差：{std}\")\n",
    "skew = data.ret.skew()\n",
    "print(F\"S&P500 報酬率偏態：{skew}\")\n",
    "kurt = data.ret.kurt()\n",
    "print(F\"S&P500 報酬率峰態：{kurt}\")\n",
    "autocorr = data.ret.autocorr(lag=1)\n",
    "print(F\"S&P500 報酬率一階自相關係數：{autocorr}\")"
   ]
  },
  {
   "cell_type": "code",
   "execution_count": 23,
   "metadata": {
    "collapsed": false
   },
   "outputs": [
    {
     "data": {
      "text/plain": [
       "<AxesSubplot:ylabel='ret'>"
      ]
     },
     "execution_count": 23,
     "metadata": {},
     "output_type": "execute_result"
    },
    {
     "data": {
      "image/png": "[encoded data removed]",
      "text/plain": [
       "<Figure size 432x288 with 1 Axes>"
      ]
     },
     "metadata": {},
     "output_type": "display_data"
    }
   ],
   "source": [
    "sns.lineplot(data=data.ret)"
   ]
  },
  {
   "cell_type": "code",
   "execution_count": 24,
   "metadata": {
    "collapsed": false
   },
   "outputs": [
    {
     "data": {
      "text/plain": [
       "<seaborn.axisgrid.FacetGrid at 0x122275040>"
      ]
     },
     "execution_count": 24,
     "metadata": {},
     "output_type": "execute_result"
    },
    {
     "data": {
      "image/png": "[encoded data removed]",
      "text/plain": [
       "<Figure size 360x360 with 1 Axes>"
      ]
     },
     "metadata": {},
     "output_type": "display_data"
    }
   ],
   "source": [
    "sns.displot(data=data.ret)"
   ]
  },
  {
   "cell_type": "markdown",
   "metadata": {
    "collapsed": false
   },
   "source": [
    "1. 由於 S&P500 報酬率的偏態係數不等於零，因此不是呈現常態分佈，但與 VIX 變化量的分佈相比更接近常態分佈。\n",
    "2. 由於 S&P500 報酬率的一階自相關係數絕對值小於 0.5，表示資料本身的自我相關是低度相關，適合與其他資料做迴歸分析。 \n",
    "3. 從 lineplot 來看，S&P500 報酬率本身沒有明顯的週期性變化，與一階自我相關係數吻合。\n",
    "4. 從 distribution plot 來看，雖然數據顯示資料偏向右邊，但整體的分佈相當接近常態分佈的鐘型曲線。\n",
    "5. 由於峰態相當的大，也可以從圖上看出在平均值的附近的波鋒相當的高聳。"
   ]
  },
  {
   "cell_type": "markdown",
   "metadata": {
    "collapsed": false
   },
   "source": [
    "# 2 請試著做出以下分析得到VIX變化量與S&P500指數報酬率的關係為正相關、負相關、無相關。"
   ]
  },
  {
   "cell_type": "markdown",
   "metadata": {
    "collapsed": false
   },
   "source": [
    "## 相關係數"
   ]
  },
  {
   "cell_type": "code",
   "execution_count": 25,
   "metadata": {
    "collapsed": false
   },
   "outputs": [
    {
     "name": "stdout",
     "output_type": "stream",
     "text": [
      "VIX 變化量與 S&P500 報酬率的相關係數：-0.7989938418142579, 呈現高度負相關\n"
     ]
    }
   ],
   "source": [
    "corr = data.ret.corr(data.dvix)\n",
    "print(F\"VIX 變化量與 S&P500 報酬率的相關係數：{corr}, 呈現高度負相關\")"
   ]
  },
  {
   "cell_type": "markdown",
   "metadata": {
    "collapsed": false
   },
   "source": [
    "## 散佈圖"
   ]
  },
  {
   "cell_type": "code",
   "execution_count": 26,
   "metadata": {
    "collapsed": false
   },
   "outputs": [
    {
     "name": "stdout",
     "output_type": "stream",
     "text": [
      "從散佈圖可以看出隨著投資人恐慌指數越高，S&P500的報酬率隨之降低，呈現負相關。\n"
     ]
    },
    {
     "data": {
      "image/png": "[encoded data removed]",
      "text/plain": [
       "<Figure size 432x288 with 1 Axes>"
      ]
     },
     "metadata": {},
     "output_type": "display_data"
    }
   ],
   "source": [
    "sns.scatterplot(data.dvix, data.ret)\n",
    "print(F\"從散佈圖可以看出隨著投資人恐慌指數越高，S&P500的報酬率隨之降低，呈現負相關。\")"
   ]
  },
  {
   "cell_type": "markdown",
   "metadata": {
    "collapsed": false
   },
   "source": [
    "## 迴歸分析 "
   ]
  },
  {
   "cell_type": "code",
   "execution_count": 27,
   "metadata": {
    "collapsed": false
   },
   "outputs": [
    {
     "name": "stdout",
     "output_type": "stream",
     "text": [
      "                            OLS Regression Results                            \n",
      "==============================================================================\n",
      "Dep. Variable:                    ret   R-squared:                       0.638\n",
      "Model:                            OLS   Adj. R-squared:                  0.638\n",
      "Method:                 Least Squares   F-statistic:                     845.6\n",
      "Date:                Sat, 26 Dec 2020   Prob (F-statistic):          7.19e-108\n",
      "Time:                        22:08:22   Log-Likelihood:                 1531.9\n",
      "No. Observations:                 481   AIC:                            -3060.\n",
      "Df Residuals:                     479   BIC:                            -3051.\n",
      "Df Model:                           1                                         \n",
      "Covariance Type:            nonrobust                                         \n",
      "==============================================================================\n",
      "                 coef    std err          t      P>|t|      [0.025      0.975]\n",
      "------------------------------------------------------------------------------\n",
      "const          0.0009      0.000      1.941      0.053   -1.11e-05       0.002\n",
      "dvix          -0.0049      0.000    -29.080      0.000      -0.005      -0.005\n",
      "==============================================================================\n",
      "Omnibus:                      197.450   Durbin-Watson:                   1.979\n",
      "Prob(Omnibus):                  0.000   Jarque-Bera (JB):            14797.114\n",
      "Skew:                           0.845   Prob(JB):                         0.00\n",
      "Kurtosis:                      30.119   Cond. No.                         2.74\n",
      "==============================================================================\n",
      "\n",
      "Notes:\n",
      "[1] Standard Errors assume that the covariance matrix of the errors is correctly specified.\n",
      "******************************************************************************\n",
      "\n",
      ">>> 從一般迴歸分析結果來看，dvix 的一次係數 p value 小於 0.001，表示對於負相關的結果是強烈顯著\n",
      "且從 R-squared 來看高達 63.8% 也驗證了 dvix 的重要性。\n",
      "\n",
      "\n",
      "\n",
      "\n",
      "                            OLS Regression Results                            \n",
      "==============================================================================\n",
      "Dep. Variable:                    ret   R-squared:                       0.638\n",
      "Model:                            OLS   Adj. R-squared:                  0.638\n",
      "Method:                 Least Squares   F-statistic:                     496.9\n",
      "Date:                Sat, 26 Dec 2020   Prob (F-statistic):           4.88e-76\n",
      "Time:                        22:08:22   Log-Likelihood:                 1531.9\n",
      "No. Observations:                 481   AIC:                            -3060.\n",
      "Df Residuals:                     479   BIC:                            -3051.\n",
      "Df Model:                           1                                         \n",
      "Covariance Type:                  HAC                                         \n",
      "==============================================================================\n",
      "                 coef    std err          z      P>|z|      [0.025      0.975]\n",
      "------------------------------------------------------------------------------\n",
      "const          0.0009      0.000      2.339      0.019       0.000       0.002\n",
      "dvix          -0.0049      0.000    -22.291      0.000      -0.005      -0.004\n",
      "==============================================================================\n",
      "Omnibus:                      197.450   Durbin-Watson:                   1.979\n",
      "Prob(Omnibus):                  0.000   Jarque-Bera (JB):            14797.114\n",
      "Skew:                           0.845   Prob(JB):                         0.00\n",
      "Kurtosis:                      30.119   Cond. No.                         2.74\n",
      "==============================================================================\n",
      "\n",
      "Notes:\n",
      "[1] Standard Errors are heteroscedasticity and autocorrelation robust (HAC) using 5 lags and without small sample correction\n",
      "******************************************************************************\n",
      "\n",
      ">>> 從 Newey-West 調整的分析結果來看，dvix 的一次係數 p value 仍然小於 0.001，表示對於負相關的結果依然是強烈顯著。\n"
     ]
    }
   ],
   "source": [
    "data[\"const\"] = 1\n",
    "x1 = [\"const\", \"dvix\"]\n",
    "reg_normal = sm.OLS(data[\"ret\"], data[x1], missing=\"drop\").fit()\n",
    "print(reg_normal.summary())\n",
    "print(\"******************************************************************************\\n\")\n",
    "print(\">>> 從一般迴歸分析結果來看，dvix 的一次係數 p value 小於 0.001，表示對於負相關的結果是強烈顯著\\n且從 R-squared 來看高達 63.8% 也驗證了 dvix 的重要性。\")\n",
    "print(\"\\n\\n\\n\")\n",
    "reg_new = sm.OLS(data[\"ret\"], data[x1], missing=\"drop\").fit(cov_type=\"HAC\", cov_kwds={\"maxlags\":5})\n",
    "print(reg_new.summary())\n",
    "print(\"******************************************************************************\\n\")\n",
    "print(\">>> 從 Newey-West 調整的分析結果來看，dvix 的一次係數 p value 仍然小於 0.001，表示對於負相關的結果依然是強烈顯著。\")"
   ]
  },
  {
   "cell_type": "markdown",
   "metadata": {
    "collapsed": false
   },
   "source": [
    "# 3 請試著做出以下分析得到S&P500指數股價報酬與移動平均(`MA5`與`MA20`)的關係為正相關、負相關、無相關。"
   ]
  },
  {
   "cell_type": "markdown",
   "metadata": {
    "collapsed": false
   },
   "source": [
    "# 相關係數"
   ]
  },
  {
   "cell_type": "code",
   "execution_count": 28,
   "metadata": {
    "collapsed": false
   },
   "outputs": [
    {
     "name": "stdout",
     "output_type": "stream",
     "text": [
      "S&P500 的五日平均與 S&P500 報酬率的相關係數：-0.042457625733669624, 呈現低度負相關\n",
      "S&P500 的二十日平均與 S&P500 報酬率的相關係數：-0.07135945909016145, 呈現低度負相關\n"
     ]
    }
   ],
   "source": [
    "corr_ma5 = data.ret.corr(ma5)\n",
    "print(F\"S&P500 的五日平均與 S&P500 報酬率的相關係數：{corr_ma5}, 呈現低度負相關\")\n",
    "\n",
    "corr_ma20 = data.ret.corr(ma20)\n",
    "print(F\"S&P500 的二十日平均與 S&P500 報酬率的相關係數：{corr_ma20}, 呈現低度負相關\")"
   ]
  },
  {
   "cell_type": "markdown",
   "metadata": {
    "collapsed": false
   },
   "source": [
    "# 散佈圖"
   ]
  },
  {
   "cell_type": "code",
   "execution_count": 29,
   "metadata": {
    "collapsed": false
   },
   "outputs": [
    {
     "name": "stdout",
     "output_type": "stream",
     "text": [
      "從散佈圖可以看出五日平均與 S&P500 報酬率沒有明顯的相關性。"
     ]
    },
    {
     "name": "stdout",
     "output_type": "stream",
     "text": [
      "\n"
     ]
    },
    {
     "data": {
      "image/png": "[encoded data removed]",
      "text/plain": [
       "<Figure size 432x288 with 1 Axes>"
      ]
     },
     "metadata": {},
     "output_type": "display_data"
    }
   ],
   "source": [
    "sns.scatterplot(ma5, data.ret)\n",
    "print(F\"從散佈圖可以看出五日平均與 S&P500 報酬率沒有明顯的相關性。\")"
   ]
  },
  {
   "cell_type": "code",
   "execution_count": 30,
   "metadata": {
    "collapsed": false
   },
   "outputs": [
    {
     "name": "stdout",
     "output_type": "stream",
     "text": [
      "從散佈圖可以看出二十日平均與 S&P500 報酬率沒有明顯的相關性。\n"
     ]
    },
    {
     "data": {
      "image/png": "[encoded data removed]",
      "text/plain": [
       "<Figure size 432x288 with 1 Axes>"
      ]
     },
     "metadata": {},
     "output_type": "display_data"
    }
   ],
   "source": [
    "sns.scatterplot(ma20, data.ret)\n",
    "print(F\"從散佈圖可以看出二十日平均與 S&P500 報酬率沒有明顯的相關性。\")"
   ]
  },
  {
   "cell_type": "markdown",
   "metadata": {
    "collapsed": false
   },
   "source": [
    "## MA5"
   ]
  },
  {
   "cell_type": "code",
   "execution_count": 31,
   "metadata": {
    "collapsed": false
   },
   "outputs": [
    {
     "name": "stdout",
     "output_type": "stream",
     "text": [
      "                            OLS Regression Results                            \n",
      "==============================================================================\n",
      "Dep. Variable:                    ret   R-squared:                       0.002\n",
      "Model:                            OLS   Adj. R-squared:                 -0.000\n",
      "Method:                 Least Squares   F-statistic:                    0.8596\n",
      "Date:                Sat, 26 Dec 2020   Prob (F-statistic):              0.354\n",
      "Time:                        22:08:22   Log-Likelihood:                 1281.5\n",
      "No. Observations:                 478   AIC:                            -2559.\n",
      "Df Residuals:                     476   BIC:                            -2551.\n",
      "Df Model:                           1                                         \n",
      "Covariance Type:            nonrobust                                         \n",
      "==============================================================================\n",
      "                 coef    std err          t      P>|t|      [0.025      0.975]\n",
      "------------------------------------------------------------------------------\n",
      "const          0.0092      0.009      1.022      0.307      -0.008       0.027\n",
      "ma5        -2.738e-06   2.95e-06     -0.927      0.354   -8.54e-06    3.06e-06\n",
      "==============================================================================\n",
      "Omnibus:                      155.140   Durbin-Watson:                   2.651\n",
      "Prob(Omnibus):                  0.000   Jarque-Bera (JB):             3845.764\n",
      "Skew:                          -0.802   Prob(JB):                         0.00\n",
      "Kurtosis:                      16.803   Cond. No.                     3.61e+04\n",
      "==============================================================================\n",
      "\n",
      "Notes:\n",
      "[1] Standard Errors assume that the covariance matrix of the errors is correctly specified.\n",
      "[2] The condition number is large, 3.61e+04. This might indicate that there are\n",
      "strong multicollinearity or other numerical problems.\n"
     ]
    }
   ],
   "source": [
    "x1 = [\"const\", \"ma5\"]\n",
    "ma5.name = \"ma5\"\n",
    "f_ma5 = ma5.to_frame()\n",
    "f_ma5[\"const\"] = 1\n",
    "reg_normal = sm.OLS(data[\"ret\"], f_ma5[x1], missing=\"drop\").fit()\n",
    "print(reg_normal.summary())"
   ]
  },
  {
   "cell_type": "markdown",
   "metadata": {
    "collapsed": false
   },
   "source": [
    "## MA20"
   ]
  },
  {
   "cell_type": "code",
   "execution_count": 32,
   "metadata": {
    "collapsed": false
   },
   "outputs": [
    {
     "name": "stdout",
     "output_type": "stream",
     "text": [
      "                            OLS Regression Results                            \n",
      "==============================================================================\n",
      "Dep. Variable:                    ret   R-squared:                       0.005\n",
      "Model:                            OLS   Adj. R-squared:                  0.003\n",
      "Method:                 Least Squares   F-statistic:                     2.360\n",
      "Date:                Sat, 26 Dec 2020   Prob (F-statistic):              0.125\n",
      "Time:                        22:08:22   Log-Likelihood:                 1236.0\n",
      "No. Observations:                 463   AIC:                            -2468.\n",
      "Df Residuals:                     461   BIC:                            -2460.\n",
      "Df Model:                           1                                         \n",
      "Covariance Type:            nonrobust                                         \n",
      "==============================================================================\n",
      "                 coef    std err          t      P>|t|      [0.025      0.975]\n",
      "------------------------------------------------------------------------------\n",
      "const          0.0163      0.010      1.614      0.107      -0.004       0.036\n",
      "ma20       -5.086e-06   3.31e-06     -1.536      0.125   -1.16e-05    1.42e-06\n",
      "==============================================================================\n",
      "Omnibus:                      142.912   Durbin-Watson:                   2.660\n",
      "Prob(Omnibus):                  0.000   Jarque-Bera (JB):             3462.987\n",
      "Skew:                          -0.728   Prob(JB):                         0.00\n",
      "Kurtosis:                      16.319   Cond. No.                     3.93e+04\n",
      "==============================================================================\n",
      "\n",
      "Notes:\n",
      "[1] Standard Errors assume that the covariance matrix of the errors is correctly specified.\n",
      "[2] The condition number is large, 3.93e+04. This might indicate that there are\n",
      "strong multicollinearity or other numerical problems.\n"
     ]
    }
   ],
   "source": [
    "x1 = [\"const\", \"ma20\"]\n",
    "ma20.name=\"ma20\"\n",
    "f_ma20 = ma20.to_frame()\n",
    "f_ma20[\"const\"] = 1\n",
    "reg_normal = sm.OLS(data[\"ret\"], f_ma20[x1], missing=\"drop\").fit()\n",
    "print(reg_normal.summary())"
   ]
  },
  {
   "cell_type": "markdown",
   "metadata": {
    "collapsed": false
   },
   "source": [
    "# 4  請利用迴歸分析結果，討論移動平均和VIX報酬率對於S&P500報酬的預測能力。"
   ]
  },
  {
   "cell_type": "markdown",
   "metadata": {
    "collapsed": false
   },
   "source": [
    "從 MA5, MA20, dvix 三者的回歸分析來看，MA5 與 MA20 的 p value 遠大於 0.01 且相關係數相較於 dvix 是相當小\n",
    "對於 S&P500 的日報酬分析而言，恐慌指數的預測能力遠大於移動平均線的預測能力！"
   ]
  }
 ],
 "metadata": {
  "kernelspec": {
   "argv": [
    "python",
    "-m",
    "ipykernel_launcher",
    "-f",
    "{connection_file}"
   ],
   "display_name": "Python 3",
   "env": null,
   "interrupt_mode": "signal",
   "language": "python",
   "metadata": null,
   "name": "python3"
  },
  "language_info": {
   "codemirror_mode": {
    "name": "ipython",
    "version": 3
   },
   "file_extension": ".py",
   "mimetype": "text/x-python",
   "name": "python",
   "nbconvert_exporter": "python",
   "pygments_lexer": "ipython3",
   "version": "3.8.3"
  },
  "name": "BHW01.ipynb"
 },
 "nbformat": 4,
 "nbformat_minor": 4
}
